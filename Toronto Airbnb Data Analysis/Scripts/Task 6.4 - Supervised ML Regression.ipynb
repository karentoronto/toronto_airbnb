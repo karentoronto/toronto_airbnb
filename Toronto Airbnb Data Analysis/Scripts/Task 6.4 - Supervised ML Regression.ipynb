{
 "cells": [
  {
   "cell_type": "code",
   "execution_count": 14,
   "id": "9db62740",
   "metadata": {},
   "outputs": [],
   "source": [
    "#1 import libraries\n",
    "import pandas as pd\n",
    "import numpy as np\n",
    "import seaborn as sns\n",
    "import matplotlib\n",
    "import matplotlib.pyplot as plt\n",
    "import os\n",
    "import sklearn\n",
    "from sklearn.model_selection import train_test_split\n",
    "from sklearn.linear_model import LinearRegression\n",
    "from sklearn.metrics import mean_squared_error, r2_score"
   ]
  },
  {
   "cell_type": "markdown",
   "id": "77a98e7a",
   "metadata": {},
   "source": [
    "<!-- Install the scikit-learn library.\n",
    "Import the libraries you need into a new notebook, including any necessary modules from scikit-learn.\n",
    "Clean your data so that it’s ready for analysis.\n",
    "Explore your data visually (e.g., by way of a scatterplot), looking for variables whose relationship you’d like to test.\n",
    "\n",
    "State your hypothesis in a markdown cell within your Jupyter notebook.\n",
    "\n",
    "Reshape the variables into NumPy arrays, with X being the independent variable and y being the dependent variable.\n",
    "\n",
    "Split the data into two sets: a training set and a test set.\n",
    "Run a linear regression on the data.\n",
    "First, fit the model you created to the training set.\n",
    "Then, create a prediction for y on the test set.\n",
    "Create a plot that shows the regression line on the test set.\n",
    "Write your own interpretation of how well the line appears to fit the data in a markdown cell.\n",
    "Check the model performance statistics—MSE and R2 score.\n",
    "Compare the predicted y values with the actual y values in a dataframe.\n",
    "Include your thoughts on how well the model performed on the test set in a markdown cell.\n",
    "Include any reflections you have on the impact of possible data bias. -->"
   ]
  },
  {
   "cell_type": "code",
   "execution_count": 15,
   "id": "b51b36ab",
   "metadata": {},
   "outputs": [],
   "source": [
    "#2 importing cleaned dataset\n",
    "df = pd.read_csv(r\"C:\\Users\\Windows\\6 - Project\\Prepared Data\\cleaned_subset.csv\", index_col = 0)"
   ]
  },
  {
   "cell_type": "code",
   "execution_count": 4,
   "id": "ecf41492",
   "metadata": {},
   "outputs": [
    {
     "data": {
      "text/html": [
       "<div>\n",
       "<style scoped>\n",
       "    .dataframe tbody tr th:only-of-type {\n",
       "        vertical-align: middle;\n",
       "    }\n",
       "\n",
       "    .dataframe tbody tr th {\n",
       "        vertical-align: top;\n",
       "    }\n",
       "\n",
       "    .dataframe thead th {\n",
       "        text-align: right;\n",
       "    }\n",
       "</style>\n",
       "<table border=\"1\" class=\"dataframe\">\n",
       "  <thead>\n",
       "    <tr style=\"text-align: right;\">\n",
       "      <th></th>\n",
       "      <th>id</th>\n",
       "      <th>host_id</th>\n",
       "      <th>neighbourhood</th>\n",
       "      <th>latitude</th>\n",
       "      <th>longitude</th>\n",
       "      <th>room_type</th>\n",
       "      <th>price</th>\n",
       "      <th>minimum_nights</th>\n",
       "      <th>number_of_reviews</th>\n",
       "      <th>last_review</th>\n",
       "      <th>reviews_per_month</th>\n",
       "      <th>calculated_host_listings_count</th>\n",
       "      <th>availability_365</th>\n",
       "      <th>number_of_reviews_ltm</th>\n",
       "      <th>rating</th>\n",
       "    </tr>\n",
       "  </thead>\n",
       "  <tbody>\n",
       "    <tr>\n",
       "      <th>0</th>\n",
       "      <td>1419</td>\n",
       "      <td>1565</td>\n",
       "      <td>Little Portugal</td>\n",
       "      <td>43.64590</td>\n",
       "      <td>-79.42423</td>\n",
       "      <td>Entire home/apt</td>\n",
       "      <td>120.0</td>\n",
       "      <td>28</td>\n",
       "      <td>6</td>\n",
       "      <td>2017-08-07</td>\n",
       "      <td>0.06</td>\n",
       "      <td>1</td>\n",
       "      <td>0</td>\n",
       "      <td>0</td>\n",
       "      <td>5.00</td>\n",
       "    </tr>\n",
       "    <tr>\n",
       "      <th>1</th>\n",
       "      <td>26654</td>\n",
       "      <td>113345</td>\n",
       "      <td>Waterfront Communities-The Island</td>\n",
       "      <td>43.64608</td>\n",
       "      <td>-79.39032</td>\n",
       "      <td>Entire home/apt</td>\n",
       "      <td>145.0</td>\n",
       "      <td>28</td>\n",
       "      <td>42</td>\n",
       "      <td>2023-09-01</td>\n",
       "      <td>0.27</td>\n",
       "      <td>5</td>\n",
       "      <td>77</td>\n",
       "      <td>2</td>\n",
       "      <td>4.79</td>\n",
       "    </tr>\n",
       "    <tr>\n",
       "      <th>2</th>\n",
       "      <td>27423</td>\n",
       "      <td>118124</td>\n",
       "      <td>South Riverdale</td>\n",
       "      <td>43.66884</td>\n",
       "      <td>-79.32725</td>\n",
       "      <td>Entire home/apt</td>\n",
       "      <td>75.0</td>\n",
       "      <td>90</td>\n",
       "      <td>28</td>\n",
       "      <td>2023-08-31</td>\n",
       "      <td>0.17</td>\n",
       "      <td>1</td>\n",
       "      <td>215</td>\n",
       "      <td>1</td>\n",
       "      <td>4.93</td>\n",
       "    </tr>\n",
       "    <tr>\n",
       "      <th>3</th>\n",
       "      <td>40456</td>\n",
       "      <td>174063</td>\n",
       "      <td>South Parkdale</td>\n",
       "      <td>43.63539</td>\n",
       "      <td>-79.44010</td>\n",
       "      <td>Entire home/apt</td>\n",
       "      <td>150.0</td>\n",
       "      <td>750</td>\n",
       "      <td>113</td>\n",
       "      <td>2023-06-19</td>\n",
       "      <td>0.69</td>\n",
       "      <td>4</td>\n",
       "      <td>364</td>\n",
       "      <td>2</td>\n",
       "      <td>4.64</td>\n",
       "    </tr>\n",
       "    <tr>\n",
       "      <th>4</th>\n",
       "      <td>43964</td>\n",
       "      <td>192364</td>\n",
       "      <td>Wexford/Maryvale</td>\n",
       "      <td>43.74922</td>\n",
       "      <td>-79.29188</td>\n",
       "      <td>Entire home/apt</td>\n",
       "      <td>195.0</td>\n",
       "      <td>1</td>\n",
       "      <td>67</td>\n",
       "      <td>2023-09-25</td>\n",
       "      <td>0.78</td>\n",
       "      <td>1</td>\n",
       "      <td>364</td>\n",
       "      <td>13</td>\n",
       "      <td>4.96</td>\n",
       "    </tr>\n",
       "  </tbody>\n",
       "</table>\n",
       "</div>"
      ],
      "text/plain": [
       "      id  host_id                      neighbourhood  latitude  longitude  \\\n",
       "0   1419     1565                    Little Portugal  43.64590  -79.42423   \n",
       "1  26654   113345  Waterfront Communities-The Island  43.64608  -79.39032   \n",
       "2  27423   118124                    South Riverdale  43.66884  -79.32725   \n",
       "3  40456   174063                     South Parkdale  43.63539  -79.44010   \n",
       "4  43964   192364                   Wexford/Maryvale  43.74922  -79.29188   \n",
       "\n",
       "         room_type  price  minimum_nights  number_of_reviews last_review  \\\n",
       "0  Entire home/apt  120.0              28                  6  2017-08-07   \n",
       "1  Entire home/apt  145.0              28                 42  2023-09-01   \n",
       "2  Entire home/apt   75.0              90                 28  2023-08-31   \n",
       "3  Entire home/apt  150.0             750                113  2023-06-19   \n",
       "4  Entire home/apt  195.0               1                 67  2023-09-25   \n",
       "\n",
       "   reviews_per_month  calculated_host_listings_count  availability_365  \\\n",
       "0               0.06                               1                 0   \n",
       "1               0.27                               5                77   \n",
       "2               0.17                               1               215   \n",
       "3               0.69                               4               364   \n",
       "4               0.78                               1               364   \n",
       "\n",
       "   number_of_reviews_ltm  rating  \n",
       "0                      0    5.00  \n",
       "1                      2    4.79  \n",
       "2                      1    4.93  \n",
       "3                      2    4.64  \n",
       "4                     13    4.96  "
      ]
     },
     "execution_count": 4,
     "metadata": {},
     "output_type": "execute_result"
    }
   ],
   "source": [
    "df.head()"
   ]
  },
  {
   "cell_type": "code",
   "execution_count": 20,
   "id": "558b0d5b",
   "metadata": {},
   "outputs": [
    {
     "name": "stdout",
     "output_type": "stream",
     "text": [
      "<class 'pandas.core.frame.DataFrame'>\n",
      "Index: 15108 entries, 0 to 15107\n",
      "Data columns (total 15 columns):\n",
      " #   Column                          Non-Null Count  Dtype  \n",
      "---  ------                          --------------  -----  \n",
      " 0   id                              15108 non-null  int64  \n",
      " 1   host_id                         15108 non-null  int64  \n",
      " 2   neighbourhood                   15108 non-null  object \n",
      " 3   latitude                        15108 non-null  float64\n",
      " 4   longitude                       15108 non-null  float64\n",
      " 5   room_type                       15108 non-null  object \n",
      " 6   price                           15108 non-null  float64\n",
      " 7   minimum_nights                  15108 non-null  int64  \n",
      " 8   number_of_reviews               15108 non-null  int64  \n",
      " 9   last_review                     15108 non-null  object \n",
      " 10  reviews_per_month               15108 non-null  float64\n",
      " 11  calculated_host_listings_count  15108 non-null  int64  \n",
      " 12  availability_365                15108 non-null  int64  \n",
      " 13  number_of_reviews_ltm           15108 non-null  int64  \n",
      " 14  rating                          15108 non-null  float64\n",
      "dtypes: float64(5), int64(7), object(3)\n",
      "memory usage: 1.8+ MB\n"
     ]
    }
   ],
   "source": [
    "df.info()"
   ]
  },
  {
   "cell_type": "code",
   "execution_count": 21,
   "id": "a50a1aaf",
   "metadata": {},
   "outputs": [
    {
     "data": {
      "text/plain": [
       "id                                0\n",
       "host_id                           0\n",
       "neighbourhood                     0\n",
       "latitude                          0\n",
       "longitude                         0\n",
       "room_type                         0\n",
       "price                             0\n",
       "minimum_nights                    0\n",
       "number_of_reviews                 0\n",
       "last_review                       0\n",
       "reviews_per_month                 0\n",
       "calculated_host_listings_count    0\n",
       "availability_365                  0\n",
       "number_of_reviews_ltm             0\n",
       "rating                            0\n",
       "dtype: int64"
      ]
     },
     "execution_count": 21,
     "metadata": {},
     "output_type": "execute_result"
    }
   ],
   "source": [
    "# 3 Data Cleaning\n",
    "# check missing values  ---> no missing values\n",
    "\n",
    "df.isnull().sum()"
   ]
  },
  {
   "cell_type": "code",
   "execution_count": 22,
   "id": "552ecff9",
   "metadata": {},
   "outputs": [
    {
     "data": {
      "text/plain": [
       "(15108,)"
      ]
     },
     "execution_count": 22,
     "metadata": {},
     "output_type": "execute_result"
    }
   ],
   "source": [
    "# check for duplicates  <--- no duplicates\n",
    "dups = df.duplicated()  \n",
    "dups.shape"
   ]
  },
  {
   "cell_type": "code",
   "execution_count": 6,
   "id": "7656f200",
   "metadata": {},
   "outputs": [
    {
     "data": {
      "image/png": "[encoded data removed]",
      "text/plain": [
       "<Figure size 640x480 with 1 Axes>"
      ]
     },
     "metadata": {},
     "output_type": "display_data"
    }
   ],
   "source": [
    "#4 Exploring data visually\n",
    "\n",
    "scatter_plot = sns.scatterplot(x='rating', y='price', data = df)\n"
   ]
  },
  {
   "cell_type": "markdown",
   "id": "d9590618",
   "metadata": {},
   "source": [
    "#### # 5 Hypothesis: There is a positive correlation between rating and price.  "
   ]
  },
  {
   "cell_type": "code",
   "execution_count": 7,
   "id": "c35016d4",
   "metadata": {},
   "outputs": [],
   "source": [
    "# 6 Reshape the variables into NumPy arrays, with X being the independent variable and y being the dependent variable.\n",
    "\n",
    "X = df['rating'].values.reshape(-1,1)\n",
    "y = df['price'].values.reshape(-1,1)"
   ]
  },
  {
   "cell_type": "code",
   "execution_count": 8,
   "id": "8edfba2e",
   "metadata": {},
   "outputs": [],
   "source": [
    "#7 Split the data into two sets: a training set and a test set.\n",
    "\n",
    "X_train, X_test, y_train, y_test = train_test_split(X, y, test_size = 0.3, random_state=0)"
   ]
  },
  {
   "cell_type": "code",
   "execution_count": 9,
   "id": "e6a8f935",
   "metadata": {},
   "outputs": [],
   "source": [
    "#8 Run a linear regression on the data.\n",
    "\n",
    "# create a regression object\n",
    "regression = LinearRegression()\n",
    "\n",
    "#Fit the regression to the train set\n",
    "regression.fit(X_train,y_train)\n",
    "\n",
    "\n",
    "# create a prediction for y on the test set. \n",
    "y_predicted = regression.predict(X_test) "
   ]
  },
  {
   "cell_type": "code",
   "execution_count": 16,
   "id": "63358adb",
   "metadata": {},
   "outputs": [
    {
     "data": {
      "image/png": "[encoded data removed]",
      "text/plain": [
       "<Figure size 640x480 with 1 Axes>"
      ]
     },
     "metadata": {},
     "output_type": "display_data"
    }
   ],
   "source": [
    "# 9 Create a plot that shows the regression line on the test set.\n",
    "\n",
    "plt.scatter(X_test, y_test, color='gray', s = 15)\n",
    "plt.plot(X_test, y_predicted, color='red', linewidth =3)\n",
    "plt.title('Airbnb Rating and Price (Test set)')\n",
    "plt.xlabel('Airbnb Rental Rating')\n",
    "plt.ylabel('Rental Price')\n",
    "plt.show()\n",
    "\n"
   ]
  },
  {
   "cell_type": "markdown",
   "id": "d36c7127",
   "metadata": {},
   "source": [
    "#### #10 Write your own interpretation of how well the line appears to fit the data in a markdown cell.\n",
    "\n",
    "#### There appears to be no relationship betwen the two variables. The bulk of the data points are off the line. "
   ]
  },
  {
   "cell_type": "code",
   "execution_count": 17,
   "id": "b99a87ad",
   "metadata": {},
   "outputs": [],
   "source": [
    "# 11 Check the model performance statistics—MSE and R2 score.\n",
    "\n",
    "rmse = mean_squared_error(y_test, y_predicted) # This is the mean squared error\n",
    "r2 = r2_score(y_test, y_predicted) # This is the R2 score."
   ]
  },
  {
   "cell_type": "code",
   "execution_count": 18,
   "id": "c877ab35",
   "metadata": {},
   "outputs": [
    {
     "name": "stdout",
     "output_type": "stream",
     "text": [
      "Slope: [[4.58274007]]\n",
      "Mean squared error:  66067.54644685594\n",
      "R2 score:  0.0002542405078356236\n"
     ]
    }
   ],
   "source": [
    " Print the model summary statistics. This is where you evaluate the performance of the model.\n",
    "\n",
    "print('Slope:' ,regression.coef_)\n",
    "print('Mean squared error: ', rmse)\n",
    "print('R2 score: ', r2)"
   ]
  },
  {
   "cell_type": "markdown",
   "id": "1660ac63",
   "metadata": {},
   "source": [
    "#### The performance of the model is poor. The positve slope means a positve relationship. The r-squared value is around 0, showing that the model cannot explain the variance in the data. The MSE is extremely high, meaning that the regression line is very far from data points. Hence, the regression model is very inaccurate."
   ]
  },
  {
   "cell_type": "code",
   "execution_count": 19,
   "id": "9a51b75d",
   "metadata": {},
   "outputs": [
    {
     "data": {
      "text/html": [
       "<div>\n",
       "<style scoped>\n",
       "    .dataframe tbody tr th:only-of-type {\n",
       "        vertical-align: middle;\n",
       "    }\n",
       "\n",
       "    .dataframe tbody tr th {\n",
       "        vertical-align: top;\n",
       "    }\n",
       "\n",
       "    .dataframe thead th {\n",
       "        text-align: right;\n",
       "    }\n",
       "</style>\n",
       "<table border=\"1\" class=\"dataframe\">\n",
       "  <thead>\n",
       "    <tr style=\"text-align: right;\">\n",
       "      <th></th>\n",
       "      <th>Actual</th>\n",
       "      <th>Predicted</th>\n",
       "    </tr>\n",
       "  </thead>\n",
       "  <tbody>\n",
       "    <tr>\n",
       "      <th>0</th>\n",
       "      <td>120.0</td>\n",
       "      <td>165.382304</td>\n",
       "    </tr>\n",
       "    <tr>\n",
       "      <th>1</th>\n",
       "      <td>120.0</td>\n",
       "      <td>165.473958</td>\n",
       "    </tr>\n",
       "    <tr>\n",
       "      <th>2</th>\n",
       "      <td>428.0</td>\n",
       "      <td>165.015684</td>\n",
       "    </tr>\n",
       "    <tr>\n",
       "      <th>3</th>\n",
       "      <td>70.0</td>\n",
       "      <td>164.144964</td>\n",
       "    </tr>\n",
       "    <tr>\n",
       "      <th>4</th>\n",
       "      <td>230.0</td>\n",
       "      <td>165.703095</td>\n",
       "    </tr>\n",
       "    <tr>\n",
       "      <th>5</th>\n",
       "      <td>450.0</td>\n",
       "      <td>158.828985</td>\n",
       "    </tr>\n",
       "    <tr>\n",
       "      <th>6</th>\n",
       "      <td>100.0</td>\n",
       "      <td>164.374101</td>\n",
       "    </tr>\n",
       "    <tr>\n",
       "      <th>7</th>\n",
       "      <td>53.0</td>\n",
       "      <td>162.266040</td>\n",
       "    </tr>\n",
       "    <tr>\n",
       "      <th>8</th>\n",
       "      <td>5000.0</td>\n",
       "      <td>164.007481</td>\n",
       "    </tr>\n",
       "    <tr>\n",
       "      <th>9</th>\n",
       "      <td>80.0</td>\n",
       "      <td>164.190791</td>\n",
       "    </tr>\n",
       "    <tr>\n",
       "      <th>10</th>\n",
       "      <td>87.0</td>\n",
       "      <td>164.419928</td>\n",
       "    </tr>\n",
       "    <tr>\n",
       "      <th>11</th>\n",
       "      <td>70.0</td>\n",
       "      <td>164.282446</td>\n",
       "    </tr>\n",
       "    <tr>\n",
       "      <th>12</th>\n",
       "      <td>120.0</td>\n",
       "      <td>165.703095</td>\n",
       "    </tr>\n",
       "    <tr>\n",
       "      <th>13</th>\n",
       "      <td>298.0</td>\n",
       "      <td>154.246245</td>\n",
       "    </tr>\n",
       "    <tr>\n",
       "      <th>14</th>\n",
       "      <td>140.0</td>\n",
       "      <td>165.336476</td>\n",
       "    </tr>\n",
       "    <tr>\n",
       "      <th>15</th>\n",
       "      <td>73.0</td>\n",
       "      <td>164.969857</td>\n",
       "    </tr>\n",
       "    <tr>\n",
       "      <th>16</th>\n",
       "      <td>400.0</td>\n",
       "      <td>165.657268</td>\n",
       "    </tr>\n",
       "    <tr>\n",
       "      <th>17</th>\n",
       "      <td>285.0</td>\n",
       "      <td>164.099136</td>\n",
       "    </tr>\n",
       "    <tr>\n",
       "      <th>18</th>\n",
       "      <td>400.0</td>\n",
       "      <td>164.190791</td>\n",
       "    </tr>\n",
       "    <tr>\n",
       "      <th>19</th>\n",
       "      <td>145.0</td>\n",
       "      <td>164.832375</td>\n",
       "    </tr>\n",
       "    <tr>\n",
       "      <th>20</th>\n",
       "      <td>115.0</td>\n",
       "      <td>164.419928</td>\n",
       "    </tr>\n",
       "    <tr>\n",
       "      <th>21</th>\n",
       "      <td>209.0</td>\n",
       "      <td>165.703095</td>\n",
       "    </tr>\n",
       "    <tr>\n",
       "      <th>22</th>\n",
       "      <td>68.0</td>\n",
       "      <td>165.015684</td>\n",
       "    </tr>\n",
       "    <tr>\n",
       "      <th>23</th>\n",
       "      <td>70.0</td>\n",
       "      <td>165.703095</td>\n",
       "    </tr>\n",
       "    <tr>\n",
       "      <th>24</th>\n",
       "      <td>599.0</td>\n",
       "      <td>163.640862</td>\n",
       "    </tr>\n",
       "    <tr>\n",
       "      <th>25</th>\n",
       "      <td>251.0</td>\n",
       "      <td>165.107339</td>\n",
       "    </tr>\n",
       "    <tr>\n",
       "      <th>26</th>\n",
       "      <td>80.0</td>\n",
       "      <td>165.703095</td>\n",
       "    </tr>\n",
       "    <tr>\n",
       "      <th>27</th>\n",
       "      <td>109.0</td>\n",
       "      <td>165.290649</td>\n",
       "    </tr>\n",
       "    <tr>\n",
       "      <th>28</th>\n",
       "      <td>99.0</td>\n",
       "      <td>164.786547</td>\n",
       "    </tr>\n",
       "    <tr>\n",
       "      <th>29</th>\n",
       "      <td>51.0</td>\n",
       "      <td>164.282446</td>\n",
       "    </tr>\n",
       "  </tbody>\n",
       "</table>\n",
       "</div>"
      ],
      "text/plain": [
       "    Actual   Predicted\n",
       "0    120.0  165.382304\n",
       "1    120.0  165.473958\n",
       "2    428.0  165.015684\n",
       "3     70.0  164.144964\n",
       "4    230.0  165.703095\n",
       "5    450.0  158.828985\n",
       "6    100.0  164.374101\n",
       "7     53.0  162.266040\n",
       "8   5000.0  164.007481\n",
       "9     80.0  164.190791\n",
       "10    87.0  164.419928\n",
       "11    70.0  164.282446\n",
       "12   120.0  165.703095\n",
       "13   298.0  154.246245\n",
       "14   140.0  165.336476\n",
       "15    73.0  164.969857\n",
       "16   400.0  165.657268\n",
       "17   285.0  164.099136\n",
       "18   400.0  164.190791\n",
       "19   145.0  164.832375\n",
       "20   115.0  164.419928\n",
       "21   209.0  165.703095\n",
       "22    68.0  165.015684\n",
       "23    70.0  165.703095\n",
       "24   599.0  163.640862\n",
       "25   251.0  165.107339\n",
       "26    80.0  165.703095\n",
       "27   109.0  165.290649\n",
       "28    99.0  164.786547\n",
       "29    51.0  164.282446"
      ]
     },
     "execution_count": 19,
     "metadata": {},
     "output_type": "execute_result"
    }
   ],
   "source": [
    "# 12  Compare the predicted y values with the actual y values in a dataframe.\n",
    "data = pd.DataFrame({'Actual': y_test.flatten(), 'Predicted': y_predicted.flatten()})\n",
    "data.head(30)"
   ]
  },
  {
   "cell_type": "markdown",
   "id": "f1a1e301",
   "metadata": {},
   "source": [
    "####  13 Include your thoughts on how well the model performed on the test set in a markdown cell.\n",
    "#### Include any reflections you have on the impact of possible data bias.\n",
    "\n",
    "#### Based on the data above, it looks like our model is a poor fit for the data. At least, the linear model may not be the ideal selection to build a predictive model. In terms of potential data bias, although we have ~15000 data points (a reasonable amount of data), there are also a number of extreme data points, which could skew the model. \n",
    "\n"
   ]
  },
  {
   "cell_type": "code",
   "execution_count": null,
   "id": "09d53add",
   "metadata": {},
   "outputs": [],
   "source": []
  }
 ],
 "metadata": {
  "kernelspec": {
   "display_name": "Python 3 (ipykernel)",
   "language": "python",
   "name": "python3"
  },
  "language_info": {
   "codemirror_mode": {
    "name": "ipython",
    "version": 3
   },
   "file_extension": ".py",
   "mimetype": "text/x-python",
   "name": "python",
   "nbconvert_exporter": "python",
   "pygments_lexer": "ipython3",
   "version": "3.11.7"
  }
 },
 "nbformat": 4,
 "nbformat_minor": 5
}
